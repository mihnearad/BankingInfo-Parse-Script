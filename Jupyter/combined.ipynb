{
 "cells": [
  {
   "cell_type": "code",
   "execution_count": 17,
   "metadata": {},
   "outputs": [],
   "source": [
    "import pandas as pd \n",
    "import numpy as np \n",
    "\n",
    "rev_bus = pd.read_csv('.data/filtered_revbus.csv')\n",
    "\n",
    "bt = pd.read_csv('.data/filtered_bt.csv')\n",
    "\n",
    "rev_pers = pd.read_csv('.data/filtered_revpers.csv')\n",
    "\n",
    "transactions= pd.concat([rev_bus, bt, rev_pers], axis=0)\n",
    "\n",
    "\n",
    "\n",
    "transactions.to_csv('.data/transactions.csv', index=False)"
   ]
  }
 ],
 "metadata": {
  "kernelspec": {
   "display_name": ".venv",
   "language": "python",
   "name": "python3"
  },
  "language_info": {
   "codemirror_mode": {
    "name": "ipython",
    "version": 3
   },
   "file_extension": ".py",
   "mimetype": "text/x-python",
   "name": "python",
   "nbconvert_exporter": "python",
   "pygments_lexer": "ipython3",
   "version": "3.10.12"
  }
 },
 "nbformat": 4,
 "nbformat_minor": 2
}
